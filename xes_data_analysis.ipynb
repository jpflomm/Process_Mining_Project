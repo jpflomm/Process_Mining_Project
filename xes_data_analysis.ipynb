{
 "cells": [
  {
   "cell_type": "code",
   "execution_count": 1,
   "id": "cc3a192a-148a-4032-981d-48dd78eef911",
   "metadata": {},
   "outputs": [],
   "source": [
    "#!pip install pm4py"
   ]
  },
  {
   "cell_type": "code",
   "execution_count": 3,
   "id": "3f59023a-55ab-400f-9486-8008f766cef1",
   "metadata": {},
   "outputs": [],
   "source": [
    "import pm4py\n",
    "import pandas as pd\n",
    "import numpy as np"
   ]
  },
  {
   "cell_type": "code",
   "execution_count": 4,
   "id": "52ed4a29-7154-4c4c-8b15-fa8d78a48f11",
   "metadata": {},
   "outputs": [
    {
     "data": {
      "application/vnd.jupyter.widget-view+json": {
       "model_id": "c8a63fd4ea1942d5873c51ba977e3d4f",
       "version_major": 2,
       "version_minor": 0
      },
      "text/plain": [
       "parsing log, completed traces ::   0%|          | 0/150370 [00:00<?, ?it/s]"
      ]
     },
     "metadata": {},
     "output_type": "display_data"
    }
   ],
   "source": [
    "log = pm4py.read_xes('Road_Traffic_Fine_Management_Process.xes')"
   ]
  },
  {
   "cell_type": "code",
   "execution_count": 5,
   "id": "f7ff8944-2fab-4e1a-b5f6-14e259bc4c53",
   "metadata": {},
   "outputs": [],
   "source": [
    "df = pm4py.convert_to_dataframe(log)"
   ]
  },
  {
   "cell_type": "code",
   "execution_count": 6,
   "id": "ef38142e-8218-4767-a0f0-7520d071267c",
   "metadata": {},
   "outputs": [],
   "source": [
    "df.to_csv(\"log.csv\")"
   ]
  },
  {
   "cell_type": "code",
   "execution_count": 7,
   "id": "e95cff32-2d15-491b-95ca-5e1a586a0151",
   "metadata": {},
   "outputs": [
    {
     "data": {
      "text/html": [
       "<div>\n",
       "<style scoped>\n",
       "    .dataframe tbody tr th:only-of-type {\n",
       "        vertical-align: middle;\n",
       "    }\n",
       "\n",
       "    .dataframe tbody tr th {\n",
       "        vertical-align: top;\n",
       "    }\n",
       "\n",
       "    .dataframe thead th {\n",
       "        text-align: right;\n",
       "    }\n",
       "</style>\n",
       "<table border=\"1\" class=\"dataframe\">\n",
       "  <thead>\n",
       "    <tr style=\"text-align: right;\">\n",
       "      <th></th>\n",
       "      <th>amount</th>\n",
       "      <th>org:resource</th>\n",
       "      <th>dismissal</th>\n",
       "      <th>concept:name</th>\n",
       "      <th>vehicleClass</th>\n",
       "      <th>totalPaymentAmount</th>\n",
       "      <th>lifecycle:transition</th>\n",
       "      <th>time:timestamp</th>\n",
       "      <th>article</th>\n",
       "      <th>points</th>\n",
       "      <th>case:concept:name</th>\n",
       "      <th>expense</th>\n",
       "      <th>notificationType</th>\n",
       "      <th>lastSent</th>\n",
       "      <th>paymentAmount</th>\n",
       "      <th>matricola</th>\n",
       "    </tr>\n",
       "  </thead>\n",
       "  <tbody>\n",
       "    <tr>\n",
       "      <th>0</th>\n",
       "      <td>35.0</td>\n",
       "      <td>561</td>\n",
       "      <td>NIL</td>\n",
       "      <td>Create Fine</td>\n",
       "      <td>A</td>\n",
       "      <td>0.0</td>\n",
       "      <td>complete</td>\n",
       "      <td>2006-07-24 00:00:00+00:00</td>\n",
       "      <td>157.0</td>\n",
       "      <td>0.0</td>\n",
       "      <td>A1</td>\n",
       "      <td>NaN</td>\n",
       "      <td>NaN</td>\n",
       "      <td>NaN</td>\n",
       "      <td>NaN</td>\n",
       "      <td>NaN</td>\n",
       "    </tr>\n",
       "    <tr>\n",
       "      <th>1</th>\n",
       "      <td>NaN</td>\n",
       "      <td>NaN</td>\n",
       "      <td>NaN</td>\n",
       "      <td>Send Fine</td>\n",
       "      <td>NaN</td>\n",
       "      <td>NaN</td>\n",
       "      <td>complete</td>\n",
       "      <td>2006-12-05 00:00:00+00:00</td>\n",
       "      <td>NaN</td>\n",
       "      <td>NaN</td>\n",
       "      <td>A1</td>\n",
       "      <td>11.0</td>\n",
       "      <td>NaN</td>\n",
       "      <td>NaN</td>\n",
       "      <td>NaN</td>\n",
       "      <td>NaN</td>\n",
       "    </tr>\n",
       "    <tr>\n",
       "      <th>2</th>\n",
       "      <td>35.0</td>\n",
       "      <td>561</td>\n",
       "      <td>NIL</td>\n",
       "      <td>Create Fine</td>\n",
       "      <td>A</td>\n",
       "      <td>0.0</td>\n",
       "      <td>complete</td>\n",
       "      <td>2006-08-02 00:00:00+00:00</td>\n",
       "      <td>157.0</td>\n",
       "      <td>0.0</td>\n",
       "      <td>A100</td>\n",
       "      <td>NaN</td>\n",
       "      <td>NaN</td>\n",
       "      <td>NaN</td>\n",
       "      <td>NaN</td>\n",
       "      <td>NaN</td>\n",
       "    </tr>\n",
       "    <tr>\n",
       "      <th>3</th>\n",
       "      <td>NaN</td>\n",
       "      <td>NaN</td>\n",
       "      <td>NaN</td>\n",
       "      <td>Send Fine</td>\n",
       "      <td>NaN</td>\n",
       "      <td>NaN</td>\n",
       "      <td>complete</td>\n",
       "      <td>2006-12-12 00:00:00+00:00</td>\n",
       "      <td>NaN</td>\n",
       "      <td>NaN</td>\n",
       "      <td>A100</td>\n",
       "      <td>11.0</td>\n",
       "      <td>NaN</td>\n",
       "      <td>NaN</td>\n",
       "      <td>NaN</td>\n",
       "      <td>NaN</td>\n",
       "    </tr>\n",
       "    <tr>\n",
       "      <th>4</th>\n",
       "      <td>NaN</td>\n",
       "      <td>NaN</td>\n",
       "      <td>NaN</td>\n",
       "      <td>Insert Fine Notification</td>\n",
       "      <td>NaN</td>\n",
       "      <td>NaN</td>\n",
       "      <td>complete</td>\n",
       "      <td>2007-01-15 00:00:00+00:00</td>\n",
       "      <td>NaN</td>\n",
       "      <td>NaN</td>\n",
       "      <td>A100</td>\n",
       "      <td>NaN</td>\n",
       "      <td>P</td>\n",
       "      <td>P</td>\n",
       "      <td>NaN</td>\n",
       "      <td>NaN</td>\n",
       "    </tr>\n",
       "  </tbody>\n",
       "</table>\n",
       "</div>"
      ],
      "text/plain": [
       "   amount org:resource dismissal              concept:name vehicleClass  \\\n",
       "0    35.0          561       NIL               Create Fine            A   \n",
       "1     NaN          NaN       NaN                 Send Fine          NaN   \n",
       "2    35.0          561       NIL               Create Fine            A   \n",
       "3     NaN          NaN       NaN                 Send Fine          NaN   \n",
       "4     NaN          NaN       NaN  Insert Fine Notification          NaN   \n",
       "\n",
       "   totalPaymentAmount lifecycle:transition            time:timestamp  article  \\\n",
       "0                 0.0             complete 2006-07-24 00:00:00+00:00    157.0   \n",
       "1                 NaN             complete 2006-12-05 00:00:00+00:00      NaN   \n",
       "2                 0.0             complete 2006-08-02 00:00:00+00:00    157.0   \n",
       "3                 NaN             complete 2006-12-12 00:00:00+00:00      NaN   \n",
       "4                 NaN             complete 2007-01-15 00:00:00+00:00      NaN   \n",
       "\n",
       "   points case:concept:name  expense notificationType lastSent  paymentAmount  \\\n",
       "0     0.0                A1      NaN              NaN      NaN            NaN   \n",
       "1     NaN                A1     11.0              NaN      NaN            NaN   \n",
       "2     0.0              A100      NaN              NaN      NaN            NaN   \n",
       "3     NaN              A100     11.0              NaN      NaN            NaN   \n",
       "4     NaN              A100      NaN                P        P            NaN   \n",
       "\n",
       "   matricola  \n",
       "0        NaN  \n",
       "1        NaN  \n",
       "2        NaN  \n",
       "3        NaN  \n",
       "4        NaN  "
      ]
     },
     "execution_count": 7,
     "metadata": {},
     "output_type": "execute_result"
    }
   ],
   "source": [
    "df.head()"
   ]
  },
  {
   "cell_type": "code",
   "execution_count": 8,
   "id": "45f6562f-72ac-4c62-87b1-b4f306ec816a",
   "metadata": {},
   "outputs": [
    {
     "name": "stdout",
     "output_type": "stream",
     "text": [
      "2000-01-01 00:00:00+00:00\n",
      "2013-06-18 00:00:00+00:00\n",
      "**************************************\n"
     ]
    },
    {
     "data": {
      "text/html": [
       "<div>\n",
       "<style scoped>\n",
       "    .dataframe tbody tr th:only-of-type {\n",
       "        vertical-align: middle;\n",
       "    }\n",
       "\n",
       "    .dataframe tbody tr th {\n",
       "        vertical-align: top;\n",
       "    }\n",
       "\n",
       "    .dataframe thead th {\n",
       "        text-align: right;\n",
       "    }\n",
       "</style>\n",
       "<table border=\"1\" class=\"dataframe\">\n",
       "  <thead>\n",
       "    <tr style=\"text-align: right;\">\n",
       "      <th></th>\n",
       "      <th>count</th>\n",
       "      <th>mean</th>\n",
       "      <th>std</th>\n",
       "      <th>min</th>\n",
       "      <th>25%</th>\n",
       "      <th>50%</th>\n",
       "      <th>75%</th>\n",
       "      <th>max</th>\n",
       "    </tr>\n",
       "  </thead>\n",
       "  <tbody>\n",
       "    <tr>\n",
       "      <th>amount</th>\n",
       "      <td>230230.0</td>\n",
       "      <td>63.681656</td>\n",
       "      <td>89.677991</td>\n",
       "      <td>0.0</td>\n",
       "      <td>33.6</td>\n",
       "      <td>38.00</td>\n",
       "      <td>71.50</td>\n",
       "      <td>8000.0</td>\n",
       "    </tr>\n",
       "    <tr>\n",
       "      <th>totalPaymentAmount</th>\n",
       "      <td>227971.0</td>\n",
       "      <td>17.815604</td>\n",
       "      <td>36.779382</td>\n",
       "      <td>0.0</td>\n",
       "      <td>0.0</td>\n",
       "      <td>0.00</td>\n",
       "      <td>35.00</td>\n",
       "      <td>4021.0</td>\n",
       "    </tr>\n",
       "    <tr>\n",
       "      <th>article</th>\n",
       "      <td>150370.0</td>\n",
       "      <td>113.246658</td>\n",
       "      <td>68.219475</td>\n",
       "      <td>7.0</td>\n",
       "      <td>7.0</td>\n",
       "      <td>157.00</td>\n",
       "      <td>157.00</td>\n",
       "      <td>401.0</td>\n",
       "    </tr>\n",
       "    <tr>\n",
       "      <th>points</th>\n",
       "      <td>150370.0</td>\n",
       "      <td>0.078879</td>\n",
       "      <td>0.577687</td>\n",
       "      <td>0.0</td>\n",
       "      <td>0.0</td>\n",
       "      <td>0.00</td>\n",
       "      <td>0.00</td>\n",
       "      <td>10.0</td>\n",
       "    </tr>\n",
       "    <tr>\n",
       "      <th>expense</th>\n",
       "      <td>103987.0</td>\n",
       "      <td>11.948984</td>\n",
       "      <td>4.023190</td>\n",
       "      <td>0.0</td>\n",
       "      <td>10.0</td>\n",
       "      <td>11.88</td>\n",
       "      <td>13.50</td>\n",
       "      <td>76.0</td>\n",
       "    </tr>\n",
       "    <tr>\n",
       "      <th>paymentAmount</th>\n",
       "      <td>77601.0</td>\n",
       "      <td>46.410027</td>\n",
       "      <td>39.345561</td>\n",
       "      <td>0.0</td>\n",
       "      <td>33.6</td>\n",
       "      <td>36.00</td>\n",
       "      <td>44.67</td>\n",
       "      <td>3975.0</td>\n",
       "    </tr>\n",
       "    <tr>\n",
       "      <th>matricola</th>\n",
       "      <td>555.0</td>\n",
       "      <td>0.000000</td>\n",
       "      <td>0.000000</td>\n",
       "      <td>0.0</td>\n",
       "      <td>0.0</td>\n",
       "      <td>0.00</td>\n",
       "      <td>0.00</td>\n",
       "      <td>0.0</td>\n",
       "    </tr>\n",
       "  </tbody>\n",
       "</table>\n",
       "</div>"
      ],
      "text/plain": [
       "                       count        mean        std  min   25%     50%  \\\n",
       "amount              230230.0   63.681656  89.677991  0.0  33.6   38.00   \n",
       "totalPaymentAmount  227971.0   17.815604  36.779382  0.0   0.0    0.00   \n",
       "article             150370.0  113.246658  68.219475  7.0   7.0  157.00   \n",
       "points              150370.0    0.078879   0.577687  0.0   0.0    0.00   \n",
       "expense             103987.0   11.948984   4.023190  0.0  10.0   11.88   \n",
       "paymentAmount        77601.0   46.410027  39.345561  0.0  33.6   36.00   \n",
       "matricola              555.0    0.000000   0.000000  0.0   0.0    0.00   \n",
       "\n",
       "                       75%     max  \n",
       "amount               71.50  8000.0  \n",
       "totalPaymentAmount   35.00  4021.0  \n",
       "article             157.00   401.0  \n",
       "points                0.00    10.0  \n",
       "expense              13.50    76.0  \n",
       "paymentAmount        44.67  3975.0  \n",
       "matricola             0.00     0.0  "
      ]
     },
     "metadata": {},
     "output_type": "display_data"
    },
    {
     "name": "stdout",
     "output_type": "stream",
     "text": [
      "**************************************\n"
     ]
    },
    {
     "data": {
      "text/plain": [
       "amount                              float64\n",
       "org:resource                         object\n",
       "dismissal                            object\n",
       "concept:name                         object\n",
       "vehicleClass                         object\n",
       "totalPaymentAmount                  float64\n",
       "lifecycle:transition                 object\n",
       "time:timestamp          datetime64[ns, UTC]\n",
       "article                             float64\n",
       "points                              float64\n",
       "case:concept:name                    object\n",
       "expense                             float64\n",
       "notificationType                     object\n",
       "lastSent                             object\n",
       "paymentAmount                       float64\n",
       "matricola                           float64\n",
       "dtype: object"
      ]
     },
     "metadata": {},
     "output_type": "display_data"
    },
    {
     "name": "stdout",
     "output_type": "stream",
     "text": [
      "**************************************\n",
      "Missing value counts:\n"
     ]
    },
    {
     "data": {
      "text/plain": [
       "amount                  331240\n",
       "org:resource            410545\n",
       "dismissal               406404\n",
       "concept:name                 0\n",
       "vehicleClass            411100\n",
       "totalPaymentAmount      333499\n",
       "lifecycle:transition         0\n",
       "time:timestamp               0\n",
       "article                 411100\n",
       "points                  411100\n",
       "case:concept:name            0\n",
       "expense                 457483\n",
       "notificationType        481610\n",
       "lastSent                483241\n",
       "paymentAmount           483869\n",
       "matricola               560915\n",
       "dtype: int64"
      ]
     },
     "execution_count": 8,
     "metadata": {},
     "output_type": "execute_result"
    }
   ],
   "source": [
    "print(df['time:timestamp'].min())\n",
    "print(df['time:timestamp'].max())\n",
    "print('**************************************')\n",
    "display(df.describe().T)\n",
    "print('**************************************')\n",
    "display(df.dtypes)\n",
    "print('**************************************')\n",
    "print('Missing value counts:')\n",
    "df.isnull().sum()"
   ]
  },
  {
   "cell_type": "code",
   "execution_count": 10,
   "id": "5f8bb2b8-d0a2-4ce1-a439-037f30a35990",
   "metadata": {},
   "outputs": [],
   "source": [
    "df = df.rename(columns={'case:concept:name':'case_id',\n",
    "                   'concept:name':'concept_name',\n",
    "                   'org:resource':'resource',\n",
    "                   'lifecycle:transition':'lifecycle_transition',\n",
    "                   'time:timestamp':'timestamp'})"
   ]
  },
  {
   "cell_type": "code",
   "execution_count": 11,
   "id": "2fff33d5-e88d-4a30-9584-4c849e13138a",
   "metadata": {},
   "outputs": [],
   "source": [
    "df['timestamp'] = pd.to_datetime(df['timestamp']).dt.tz_localize(None)"
   ]
  },
  {
   "cell_type": "code",
   "execution_count": 12,
   "id": "16fe1660-edc2-4a62-bfbe-ee7c23448e4a",
   "metadata": {},
   "outputs": [],
   "source": [
    "df = df.sort_values(by=['case_id', 'timestamp'], ascending=True)"
   ]
  },
  {
   "cell_type": "code",
   "execution_count": 13,
   "id": "14b9a63a-78cd-4da4-90d8-c369bb66eb2c",
   "metadata": {},
   "outputs": [
    {
     "name": "stdout",
     "output_type": "stream",
     "text": [
      "resource --> ['561' nan '537' '550' '541' '557' '558' '559' '0' '536' '560' '562' '563'\n",
      " '564' '556' '538' '565' '566' '568' '567' '9' '27' '26' '21' '28' '17'\n",
      " '10' '35' '704' '24' '12' '16' '20' '23' '30' '32' '36' '31' '33' '11'\n",
      " '29' '34' '22' '828' '817' '826' '821' '813' '829' '807' '825' '818'\n",
      " '824' '827' '819' '811' '820' '802' '823' '816' '810' '830' '808' '57'\n",
      " '836' '13' '831' '832' '833' '834' '835' '837' '838' '839' '25' '37'\n",
      " '850' '53' '54' '46' '55' '42' '39' '40' '56' '45' '49' '51' '843' '845'\n",
      " '44' '52' '43' '58' '840' '842' '841' '41' '50' '48' '844' '47' '61' '4'\n",
      " '14' '3' '849' '851' '59' '847' '857' '848' '855' '856' '852' '66' '63'\n",
      " '65' '62' '858' '846' '861' '546' '540' '548' '552' '554' '555' '553'\n",
      " '551' '38' '853' '854' '60' '64' '15' '860' '859' '862' '864' '865' '866'\n",
      " '867' '868' '869' '870' '8' '18' '19'] -- nunique: 148\n",
      "\n",
      "dismissal --> ['NIL' nan '#' 'G' 'N' 'K' '5' '3' 'A' 'I' 'D' 'T' 'E' '@' 'M' 'Q' 'F' 'V'\n",
      " 'U' 'C' 'B' '$' 'Z' 'J' 'R' '2' '4'] -- nunique: 26\n",
      "\n",
      "concept_name --> ['Create Fine' 'Send Fine' 'Insert Fine Notification' 'Add penalty'\n",
      " 'Send for Credit Collection' 'Payment' 'Insert Date Appeal to Prefecture'\n",
      " 'Send Appeal to Prefecture' 'Receive Result Appeal from Prefecture'\n",
      " 'Notify Result Appeal to Offender' 'Appeal to Judge'] -- nunique: 11\n",
      "\n",
      "vehicleClass --> ['A' nan 'C' 'M' 'R'] -- nunique: 4\n",
      "\n",
      "lifecycle_transition --> ['complete'] -- nunique: 1\n",
      "\n",
      "case_id --> ['A1' 'A100' 'A10000' ... 'V9997' 'V9998' 'V9999'] -- nunique: 150370\n",
      "\n",
      "notificationType --> [nan 'P' 'C'] -- nunique: 2\n",
      "\n",
      "lastSent --> [nan 'P' 'N' 'C'] -- nunique: 3\n",
      "\n"
     ]
    }
   ],
   "source": [
    "for col in df.columns:\n",
    "    if df[col].dtype == 'object':\n",
    "        print(f\"{col} --> {df[col].unique()} -- nunique: {df[col].nunique()}\\n\")"
   ]
  },
  {
   "cell_type": "markdown",
   "id": "64203c94-211c-4004-bd3c-52f5f7de8cc8",
   "metadata": {},
   "source": [
    "# Conformance Checking"
   ]
  },
  {
   "cell_type": "code",
   "execution_count": 145,
   "id": "85df469d-8112-46f9-be4c-f7dee1d06bb8",
   "metadata": {},
   "outputs": [],
   "source": [
    "def check_conformation(dataframe, f_cname, s_cname, law):\n",
    "    result = {'positive': [], 'negative': []}\n",
    "    \n",
    "    filtered_df = dataframe[dataframe['concept_name'].isin([f_cname, s_cname])]\n",
    "\n",
    "    agg_data = (\n",
    "        filtered_df.groupby(['case_id', 'concept_name'])['timestamp']\n",
    "        .agg(['min', 'max'])\n",
    "        .unstack()\n",
    "    )\n",
    "    agg_data.columns = ['_'.join(filter(None, col)) for col in agg_data.columns]\n",
    "\n",
    "    for case_id, row in agg_data.iterrows():\n",
    "        first_key = f\"min_{f_cname}\"\n",
    "        second_key = f\"max_{s_cname}\"\n",
    "        first_ts = row[first_key]\n",
    "        second_ts = row[second_key]\n",
    "\n",
    "        if pd.isna(first_ts) or pd.isna(second_ts):\n",
    "            continue\n",
    "\n",
    "        day_diff = (second_ts - first_ts).days\n",
    "\n",
    "        if day_diff < 0:\n",
    "            continue\n",
    "        elif day_diff < law:\n",
    "            result['positive'].append(case_id)\n",
    "        else:\n",
    "            result['negative'].append(case_id)\n",
    "\n",
    "    return result\n",
    "\n",
    "def return_percent(result, metric_one, metric_two, days):\n",
    "    total_cases = len(result['positive']) + len(result['negative'])\n",
    "    if total_cases == 0:\n",
    "        print(\"No cases to evaluate.\")\n",
    "        return\n",
    "        \n",
    "    p_ratio = (len(result['positive']) / total_cases) * 100\n",
    "    n_ratio = (len(result['negative']) / total_cases) * 100\n",
    "\n",
    "    print(f'***** {metric_one}(before) & {metric_two}(after) *****\\n')\n",
    "    print(f'{p_ratio:.1f}% of the cases conform with the time constraints imposed by the law. (less than {days} days)')\n",
    "    print(f'{n_ratio:.1f}% of the cases fail to conform with the time constraints imposed by the law.')\n",
    "    print(f'Total number of cases inspected: {total_cases}')\n",
    "\n",
    "def find_average_time(dataframe, f_cname, s_cname, law):\n",
    "    result = {'positive': [], 'negative': []}\n",
    "    \n",
    "    filtered_df = dataframe[dataframe['concept_name'].isin([f_cname, s_cname])]\n",
    "\n",
    "    agg_data = (\n",
    "        filtered_df.groupby(['case_id', 'concept_name'])['timestamp']\n",
    "        .agg(['min', 'max'])\n",
    "        .unstack()\n",
    "    )\n",
    "    agg_data.columns = ['_'.join(filter(None, col)) for col in agg_data.columns]\n",
    "\n",
    "    for case_id, row in agg_data.iterrows():\n",
    "        first_key = f\"min_{f_cname}\"\n",
    "        second_key = f\"max_{s_cname}\"\n",
    "        first_ts = row[first_key]\n",
    "        second_ts = row[second_key]\n",
    "\n",
    "        if pd.isna(first_ts) or pd.isna(second_ts):\n",
    "            continue\n",
    "\n",
    "        day_diff = (second_ts - first_ts).days\n",
    "            \n",
    "        if day_diff < 0:\n",
    "            continue\n",
    "        elif day_diff < law:\n",
    "            result['positive'].append(day_diff)\n",
    "        else:\n",
    "            result['negative'].append(day_diff)\n",
    "\n",
    "    return result\n",
    "\n",
    "def calculate_stats(store, f_cname, s_cname, law):\n",
    "    neg_mean, neg_med = np.mean(store['negative']), np.median(store['negative'])\n",
    "    pos_mean, pos_med = np.mean(store['positive']), np.median(store['positive'])\n",
    "    print(f'***** {f_cname}(before) & {s_cname}(after) ***** Limit: {law} days\\n')\n",
    "    print(f\"1.1) Mean day difference for negative cases: {neg_mean:.1f}\")\n",
    "    print(f\"1.2) Median day difference for negative cases: {neg_med:.1f}\\n\")\n",
    "    print(f\"2.1) Mean day difference for positive cases: {pos_mean:.1f}\")\n",
    "    print(f\"2.2) Median day difference for positive cases: {pos_med:.1f}\\n\")\n",
    "    print(f\"3.1) Mean day difference for all cases: {(neg_mean+pos_mean)/2:.1f}\")\n",
    "    print(f\"3.2) Median day difference for all cases: {(neg_med+pos_med)/2:.1f}\")"
   ]
  },
  {
   "cell_type": "code",
   "execution_count": 147,
   "id": "d968e699-ddb9-48e1-a21c-50f75e9fc309",
   "metadata": {},
   "outputs": [],
   "source": [
    "#(\n",
    "#        df.loc[df.concept_name.isin(['Create Fine', 'Send Fine']), :].groupby(['case_id', 'concept_name'])['timestamp']\n",
    "#        .agg(['min', 'max'])\n",
    "#       .unstack()\n",
    "#    )"
   ]
  },
  {
   "cell_type": "code",
   "execution_count": 16,
   "id": "8e8a3074-e307-4b76-8aa7-5b8fd35de7f5",
   "metadata": {},
   "outputs": [],
   "source": [
    "#Since we have lots of rows, computation time is high. Instead, we can randomly sample case IDs to decrease the dataset size.\n",
    "#sampled_cases = np.random.choice(df.case_id, size=10, replace=False)\n",
    "#df_sampled = df.loc[df.case_id.isin(sampled_cases), :]\n",
    "\n",
    "#no need to do that for now"
   ]
  },
  {
   "cell_type": "code",
   "execution_count": 57,
   "id": "b87ceb8a-1e51-4071-aa6c-5d75fefc4919",
   "metadata": {},
   "outputs": [
    {
     "name": "stdout",
     "output_type": "stream",
     "text": [
      "***** Create Fine(before) & Send Fine(after) *****\n",
      "\n",
      "51.4% of the cases conform with the time constraints imposed by the law. (less than 90 days)\n",
      "48.6% of the cases fail to conform with the time constraints imposed by the law.\n",
      "Total number of cases inspected: 103987\n"
     ]
    }
   ],
   "source": [
    "conformation_results = check_conformation(df, 'Create Fine', 'Send Fine', 90)\n",
    "return_percent(conformation_results, 'Create Fine', 'Send Fine', 90)"
   ]
  },
  {
   "cell_type": "code",
   "execution_count": 59,
   "id": "3ae7c345-d942-45b8-b53e-fbb4ef6f81f7",
   "metadata": {},
   "outputs": [
    {
     "name": "stdout",
     "output_type": "stream",
     "text": [
      "***** Insert Fine Notification(before) & Appeal to Judge(after) *****\n",
      "\n",
      "55.2% of the cases conform with the time constraints imposed by the law. (less than 60 days)\n",
      "44.8% of the cases fail to conform with the time constraints imposed by the law.\n",
      "Total number of cases inspected: 538\n"
     ]
    }
   ],
   "source": [
    "conformation_results = check_conformation(df, 'Insert Fine Notification', 'Appeal to Judge', 60)\n",
    "return_percent(conformation_results, 'Insert Fine Notification', 'Appeal to Judge', 60)"
   ]
  },
  {
   "cell_type": "code",
   "execution_count": 61,
   "id": "e60e1c48-773f-4b81-87e7-97907ef52981",
   "metadata": {},
   "outputs": [
    {
     "name": "stdout",
     "output_type": "stream",
     "text": [
      "***** Insert Fine Notification(before) & Insert Date Appeal to Prefecture(after) *****\n",
      "\n",
      "83.6% of the cases conform with the time constraints imposed by the law. (less than 60 days)\n",
      "16.4% of the cases fail to conform with the time constraints imposed by the law.\n",
      "Total number of cases inspected: 4015\n"
     ]
    }
   ],
   "source": [
    "conformation_results = check_conformation(df, 'Insert Fine Notification', 'Insert Date Appeal to Prefecture', 60)\n",
    "return_percent(conformation_results, 'Insert Fine Notification', 'Insert Date Appeal to Prefecture', 60)"
   ]
  },
  {
   "cell_type": "markdown",
   "id": "e8f877a0-e3bf-4918-9e00-b406b008d3b6",
   "metadata": {},
   "source": [
    "### Average Day Differences between Activities:"
   ]
  },
  {
   "cell_type": "code",
   "execution_count": 165,
   "id": "467101ee-369d-4a13-a9cf-e09e6c0d8cc4",
   "metadata": {},
   "outputs": [
    {
     "name": "stdout",
     "output_type": "stream",
     "text": [
      "***** Create Fine(before) & Send Fine(after) ***** Limit: 90 days\n",
      "\n",
      "1.1) Mean day difference for negative cases: 123.4\n",
      "1.2) Median day difference for negative cases: 122.0\n",
      "\n",
      "2.1) Mean day difference for positive cases: 53.5\n",
      "2.2) Median day difference for positive cases: 54.0\n",
      "\n",
      "3.1) Mean day difference for all cases: 88.5\n",
      "3.2) Median day difference for all cases: 88.0\n"
     ]
    }
   ],
   "source": [
    "store_diffs = find_average_time(df, 'Create Fine', 'Send Fine', 90)\n",
    "calculate_stats(store_diffs, 'Create Fine', 'Send Fine', 90)"
   ]
  },
  {
   "cell_type": "code",
   "execution_count": 166,
   "id": "7fb886a9-eb74-45c3-af06-65d57cdef3d3",
   "metadata": {},
   "outputs": [
    {
     "name": "stdout",
     "output_type": "stream",
     "text": [
      "***** Insert Fine Notification(before) & Appeal to Judge(after) ***** Limit: 60 days\n",
      "\n",
      "1.1) Mean day difference for negative cases: 177.0\n",
      "1.2) Median day difference for negative cases: 157.0\n",
      "\n",
      "2.1) Mean day difference for positive cases: 30.1\n",
      "2.2) Median day difference for positive cases: 30.0\n",
      "\n",
      "3.1) Mean day difference for all cases: 103.5\n",
      "3.2) Median day difference for all cases: 93.5\n"
     ]
    }
   ],
   "source": [
    "store_diffs = find_average_time(df, 'Insert Fine Notification', 'Appeal to Judge', 60)\n",
    "calculate_stats(store_diffs, 'Insert Fine Notification', 'Appeal to Judge', 60)"
   ]
  },
  {
   "cell_type": "code",
   "execution_count": 167,
   "id": "fc9eebc6-18f8-434f-b755-91d77db50aed",
   "metadata": {},
   "outputs": [
    {
     "name": "stdout",
     "output_type": "stream",
     "text": [
      "***** Insert Fine Notification(before) & Insert Date Appeal to Prefecture(after) ***** Limit: 60 days\n",
      "\n",
      "1.1) Mean day difference for negative cases: 97.9\n",
      "1.2) Median day difference for negative cases: 67.0\n",
      "\n",
      "2.1) Mean day difference for positive cases: 33.0\n",
      "2.2) Median day difference for positive cases: 34.0\n",
      "\n",
      "3.1) Mean day difference for all cases: 65.4\n",
      "3.2) Median day difference for all cases: 50.5\n"
     ]
    }
   ],
   "source": [
    "store_diffs = find_average_time(df, 'Insert Fine Notification', 'Insert Date Appeal to Prefecture', 60)\n",
    "calculate_stats(store_diffs, 'Insert Fine Notification', 'Insert Date Appeal to Prefecture', 60)"
   ]
  },
  {
   "cell_type": "markdown",
   "id": "19d2bc9a-4201-43c3-a4a9-c066d4fa2c08",
   "metadata": {},
   "source": [
    "# Inspect \"Send Fine\""
   ]
  },
  {
   "cell_type": "code",
   "execution_count": 552,
   "id": "26cc4140-fd2d-4c89-a02d-784662b535b3",
   "metadata": {},
   "outputs": [],
   "source": [
    "df_send = df[df['concept_name'].isin(['Send Fine'])]\n",
    "\n",
    "\n",
    "max_sendfine = (\n",
    "    df_send.groupby(['case_id', 'concept_name'])['timestamp']\n",
    "    .agg(['max'])\n",
    "    .unstack()\n",
    "    )\n",
    "max_sendfine.columns = max_sendfine.columns.get_level_values(1)\n",
    "max_sendfine_dct = max_sendfine.reset_index().set_index('case_id').to_dict()\n",
    "\n",
    "\n",
    "\n",
    "case_id_max_ts = (\n",
    "                    df.groupby(['case_id'])['timestamp']\n",
    "                    .agg(['max'])\n",
    "                    ).to_dict()\n",
    "\n",
    "\n",
    "end_with_send_fine = []\n",
    "for case_id, ts in max_sendfine_dct['Send Fine'].items():\n",
    "    if case_id_max_ts['max'][case_id] == ts:\n",
    "        end_with_send_fine.append(case_id)"
   ]
  },
  {
   "cell_type": "code",
   "execution_count": 554,
   "id": "df0a8718-a273-4e6a-a5f9-91af4e46f2b1",
   "metadata": {},
   "outputs": [
    {
     "data": {
      "text/html": [
       "<div>\n",
       "<style scoped>\n",
       "    .dataframe tbody tr th:only-of-type {\n",
       "        vertical-align: middle;\n",
       "    }\n",
       "\n",
       "    .dataframe tbody tr th {\n",
       "        vertical-align: top;\n",
       "    }\n",
       "\n",
       "    .dataframe thead th {\n",
       "        text-align: right;\n",
       "    }\n",
       "</style>\n",
       "<table border=\"1\" class=\"dataframe\">\n",
       "  <thead>\n",
       "    <tr style=\"text-align: right;\">\n",
       "      <th></th>\n",
       "      <th>amount</th>\n",
       "      <th>resource</th>\n",
       "      <th>dismissal</th>\n",
       "      <th>concept_name</th>\n",
       "      <th>vehicleClass</th>\n",
       "      <th>totalPaymentAmount</th>\n",
       "      <th>lifecycle_transition</th>\n",
       "      <th>timestamp</th>\n",
       "      <th>article</th>\n",
       "      <th>points</th>\n",
       "      <th>case_id</th>\n",
       "      <th>expense</th>\n",
       "      <th>notificationType</th>\n",
       "      <th>lastSent</th>\n",
       "      <th>paymentAmount</th>\n",
       "      <th>matricola</th>\n",
       "    </tr>\n",
       "  </thead>\n",
       "  <tbody>\n",
       "    <tr>\n",
       "      <th>376895</th>\n",
       "      <td>23.0</td>\n",
       "      <td>63</td>\n",
       "      <td>NIL</td>\n",
       "      <td>Create Fine</td>\n",
       "      <td>A</td>\n",
       "      <td>0.0</td>\n",
       "      <td>complete</td>\n",
       "      <td>2010-08-01</td>\n",
       "      <td>7.0</td>\n",
       "      <td>0.0</td>\n",
       "      <td>S155989</td>\n",
       "      <td>NaN</td>\n",
       "      <td>NaN</td>\n",
       "      <td>NaN</td>\n",
       "      <td>NaN</td>\n",
       "      <td>NaN</td>\n",
       "    </tr>\n",
       "    <tr>\n",
       "      <th>376896</th>\n",
       "      <td>NaN</td>\n",
       "      <td>NaN</td>\n",
       "      <td>NaN</td>\n",
       "      <td>Send Fine</td>\n",
       "      <td>NaN</td>\n",
       "      <td>NaN</td>\n",
       "      <td>complete</td>\n",
       "      <td>2010-09-29</td>\n",
       "      <td>NaN</td>\n",
       "      <td>NaN</td>\n",
       "      <td>S155989</td>\n",
       "      <td>13.5</td>\n",
       "      <td>NaN</td>\n",
       "      <td>NaN</td>\n",
       "      <td>NaN</td>\n",
       "      <td>NaN</td>\n",
       "    </tr>\n",
       "  </tbody>\n",
       "</table>\n",
       "</div>"
      ],
      "text/plain": [
       "        amount resource dismissal concept_name vehicleClass  \\\n",
       "376895    23.0       63       NIL  Create Fine            A   \n",
       "376896     NaN      NaN       NaN    Send Fine          NaN   \n",
       "\n",
       "        totalPaymentAmount lifecycle_transition  timestamp  article  points  \\\n",
       "376895                 0.0             complete 2010-08-01      7.0     0.0   \n",
       "376896                 NaN             complete 2010-09-29      NaN     NaN   \n",
       "\n",
       "        case_id  expense notificationType lastSent  paymentAmount  matricola  \n",
       "376895  S155989      NaN              NaN      NaN            NaN        NaN  \n",
       "376896  S155989     13.5              NaN      NaN            NaN        NaN  "
      ]
     },
     "execution_count": 554,
     "metadata": {},
     "output_type": "execute_result"
    }
   ],
   "source": [
    "df.loc[df.case_id==np.random.choice(end_with_send_fine, 1)[0], :]"
   ]
  },
  {
   "cell_type": "code",
   "execution_count": 556,
   "id": "a7087e12-a02d-4ef0-a900-31322268266e",
   "metadata": {},
   "outputs": [
    {
     "name": "stdout",
     "output_type": "stream",
     "text": [
      "20755 cases ends with 'Send Fine'\n"
     ]
    }
   ],
   "source": [
    "print(f\"{len(end_with_send_fine)} cases ends with 'Send Fine'\")"
   ]
  },
  {
   "cell_type": "code",
   "execution_count": 558,
   "id": "6b230636-fe1a-4e61-aaa2-e664533cc5da",
   "metadata": {},
   "outputs": [],
   "source": [
    "df_ends_with_sendfine = df.loc[df.case_id.isin(end_with_send_fine), :]"
   ]
  },
  {
   "cell_type": "code",
   "execution_count": 560,
   "id": "a11c3fce-275d-48b8-9b9d-688777f8c669",
   "metadata": {},
   "outputs": [
    {
     "name": "stdout",
     "output_type": "stream",
     "text": [
      "***** Create Fine(before) & Send Fine(after) ***** Limit: 90 days\n",
      "\n",
      "1.1) Mean day difference for negative cases: 125.5\n",
      "1.2) Median day difference for negative cases: 123.0\n",
      "\n",
      "2.1) Mean day difference for positive cases: 57.0\n",
      "2.2) Median day difference for positive cases: 58.0\n",
      "\n",
      "3.1) Mean day difference for all cases: 91.3\n",
      "3.2) Median day difference for all cases: 90.5\n"
     ]
    }
   ],
   "source": [
    "store_diffs = find_average_time(df_ends_with_sendfine, 'Create Fine', 'Send Fine', 90)\n",
    "calculate_stats(store_diffs, 'Create Fine', 'Send Fine', 90)"
   ]
  },
  {
   "cell_type": "code",
   "execution_count": 562,
   "id": "2764ff3a-de76-4f40-8693-9ac38fd06814",
   "metadata": {},
   "outputs": [
    {
     "data": {
      "text/plain": [
       "8813"
      ]
     },
     "execution_count": 562,
     "metadata": {},
     "output_type": "execute_result"
    }
   ],
   "source": [
    "len(store_diffs['positive'])"
   ]
  },
  {
   "cell_type": "code",
   "execution_count": 564,
   "id": "7c23b501-878a-4ff3-ae2c-2b3b97e8f6ff",
   "metadata": {},
   "outputs": [
    {
     "data": {
      "text/plain": [
       "11942"
      ]
     },
     "execution_count": 564,
     "metadata": {},
     "output_type": "execute_result"
    }
   ],
   "source": [
    "len(store_diffs['negative'])"
   ]
  },
  {
   "cell_type": "code",
   "execution_count": 588,
   "id": "bf00d8d2-677a-468a-8b08-1af985e172b5",
   "metadata": {},
   "outputs": [],
   "source": [
    "more_than_two = pd.DataFrame(df_ends_with_sendfine.groupby('case_id').size()).reset_index().rename(columns={0:'count_row'})"
   ]
  },
  {
   "cell_type": "code",
   "execution_count": 601,
   "id": "7088bc3e-ae27-425e-a480-8414ee19298e",
   "metadata": {},
   "outputs": [],
   "source": [
    "more_than_two_lst = more_than_two.loc[more_than_two.count_row > 2, :].case_id.to_list()"
   ]
  },
  {
   "cell_type": "code",
   "execution_count": 634,
   "id": "4991f123-f131-47b8-945d-d0f86e5f14c7",
   "metadata": {},
   "outputs": [
    {
     "data": {
      "text/plain": [
       "array(['Create Fine', 'Payment', 'Send Fine',\n",
       "       'Insert Date Appeal to Prefecture', 'Send Appeal to Prefecture',\n",
       "       'Appeal to Judge'], dtype=object)"
      ]
     },
     "execution_count": 634,
     "metadata": {},
     "output_type": "execute_result"
    }
   ],
   "source": [
    "df_ends_with_sendfine.loc[df_ends_with_sendfine.case_id.isin(more_than_two_lst), :].concept_name.unique()"
   ]
  },
  {
   "cell_type": "markdown",
   "id": "1e59df35-6fd8-499f-86e3-19dc7a0bc030",
   "metadata": {},
   "source": [
    "pattern is as follows: right after 'Create Fine', if the next activity is either 'payment', 'appeal to judge', or 'Insert date appeal to prefecture', the case ends with 'send fine'."
   ]
  },
  {
   "cell_type": "code",
   "execution_count": 788,
   "id": "52d35215-cbe8-418c-9d44-693efda4cd50",
   "metadata": {},
   "outputs": [
    {
     "data": {
      "text/html": [
       "<div>\n",
       "<style scoped>\n",
       "    .dataframe tbody tr th:only-of-type {\n",
       "        vertical-align: middle;\n",
       "    }\n",
       "\n",
       "    .dataframe tbody tr th {\n",
       "        vertical-align: top;\n",
       "    }\n",
       "\n",
       "    .dataframe thead th {\n",
       "        text-align: right;\n",
       "    }\n",
       "</style>\n",
       "<table border=\"1\" class=\"dataframe\">\n",
       "  <thead>\n",
       "    <tr style=\"text-align: right;\">\n",
       "      <th></th>\n",
       "      <th>amount</th>\n",
       "      <th>resource</th>\n",
       "      <th>dismissal</th>\n",
       "      <th>concept_name</th>\n",
       "      <th>vehicleClass</th>\n",
       "      <th>totalPaymentAmount</th>\n",
       "      <th>lifecycle_transition</th>\n",
       "      <th>timestamp</th>\n",
       "      <th>article</th>\n",
       "      <th>points</th>\n",
       "      <th>case_id</th>\n",
       "      <th>expense</th>\n",
       "      <th>notificationType</th>\n",
       "      <th>lastSent</th>\n",
       "      <th>paymentAmount</th>\n",
       "      <th>matricola</th>\n",
       "    </tr>\n",
       "  </thead>\n",
       "  <tbody>\n",
       "    <tr>\n",
       "      <th>83550</th>\n",
       "      <td>65.6</td>\n",
       "      <td>34</td>\n",
       "      <td>NIL</td>\n",
       "      <td>Create Fine</td>\n",
       "      <td>A</td>\n",
       "      <td>0.0</td>\n",
       "      <td>complete</td>\n",
       "      <td>2001-01-28</td>\n",
       "      <td>145.0</td>\n",
       "      <td>0.0</td>\n",
       "      <td>C12875</td>\n",
       "      <td>NaN</td>\n",
       "      <td>NaN</td>\n",
       "      <td>NaN</td>\n",
       "      <td>NaN</td>\n",
       "      <td>NaN</td>\n",
       "    </tr>\n",
       "    <tr>\n",
       "      <th>83551</th>\n",
       "      <td>NaN</td>\n",
       "      <td>NaN</td>\n",
       "      <td>NaN</td>\n",
       "      <td>Insert Date Appeal to Prefecture</td>\n",
       "      <td>NaN</td>\n",
       "      <td>NaN</td>\n",
       "      <td>complete</td>\n",
       "      <td>2001-03-14</td>\n",
       "      <td>NaN</td>\n",
       "      <td>NaN</td>\n",
       "      <td>C12875</td>\n",
       "      <td>NaN</td>\n",
       "      <td>NaN</td>\n",
       "      <td>NaN</td>\n",
       "      <td>NaN</td>\n",
       "      <td>NaN</td>\n",
       "    </tr>\n",
       "    <tr>\n",
       "      <th>83552</th>\n",
       "      <td>NaN</td>\n",
       "      <td>NaN</td>\n",
       "      <td>#</td>\n",
       "      <td>Send Appeal to Prefecture</td>\n",
       "      <td>NaN</td>\n",
       "      <td>NaN</td>\n",
       "      <td>complete</td>\n",
       "      <td>2001-04-05</td>\n",
       "      <td>NaN</td>\n",
       "      <td>NaN</td>\n",
       "      <td>C12875</td>\n",
       "      <td>NaN</td>\n",
       "      <td>NaN</td>\n",
       "      <td>NaN</td>\n",
       "      <td>NaN</td>\n",
       "      <td>NaN</td>\n",
       "    </tr>\n",
       "    <tr>\n",
       "      <th>83553</th>\n",
       "      <td>NaN</td>\n",
       "      <td>NaN</td>\n",
       "      <td>NaN</td>\n",
       "      <td>Send Fine</td>\n",
       "      <td>NaN</td>\n",
       "      <td>NaN</td>\n",
       "      <td>complete</td>\n",
       "      <td>2001-05-09</td>\n",
       "      <td>NaN</td>\n",
       "      <td>NaN</td>\n",
       "      <td>C12875</td>\n",
       "      <td>11.88</td>\n",
       "      <td>NaN</td>\n",
       "      <td>NaN</td>\n",
       "      <td>NaN</td>\n",
       "      <td>NaN</td>\n",
       "    </tr>\n",
       "  </tbody>\n",
       "</table>\n",
       "</div>"
      ],
      "text/plain": [
       "       amount resource dismissal                      concept_name  \\\n",
       "83550    65.6       34       NIL                       Create Fine   \n",
       "83551     NaN      NaN       NaN  Insert Date Appeal to Prefecture   \n",
       "83552     NaN      NaN         #         Send Appeal to Prefecture   \n",
       "83553     NaN      NaN       NaN                         Send Fine   \n",
       "\n",
       "      vehicleClass  totalPaymentAmount lifecycle_transition  timestamp  \\\n",
       "83550            A                 0.0             complete 2001-01-28   \n",
       "83551          NaN                 NaN             complete 2001-03-14   \n",
       "83552          NaN                 NaN             complete 2001-04-05   \n",
       "83553          NaN                 NaN             complete 2001-05-09   \n",
       "\n",
       "       article  points case_id  expense notificationType lastSent  \\\n",
       "83550    145.0     0.0  C12875      NaN              NaN      NaN   \n",
       "83551      NaN     NaN  C12875      NaN              NaN      NaN   \n",
       "83552      NaN     NaN  C12875      NaN              NaN      NaN   \n",
       "83553      NaN     NaN  C12875    11.88              NaN      NaN   \n",
       "\n",
       "       paymentAmount  matricola  \n",
       "83550            NaN        NaN  \n",
       "83551            NaN        NaN  \n",
       "83552            NaN        NaN  \n",
       "83553            NaN        NaN  "
      ]
     },
     "execution_count": 788,
     "metadata": {},
     "output_type": "execute_result"
    }
   ],
   "source": [
    "df_ends_with_sendfine.loc[df_ends_with_sendfine.case_id==np.random.choice(more_than_two_lst, 1)[0], :]"
   ]
  },
  {
   "cell_type": "markdown",
   "id": "44bb10df-0a62-4933-a37d-fac5f8caa51a",
   "metadata": {},
   "source": [
    "##### Cases that include 'Appeal to Judge'"
   ]
  },
  {
   "cell_type": "code",
   "execution_count": 22,
   "id": "d429b35c-4cb8-4959-906c-d155ef326603",
   "metadata": {},
   "outputs": [
    {
     "data": {
      "text/plain": [
       "array(['A12414', 'A14727', 'A1516', 'A15307', 'A1582', 'A16141', 'A17158',\n",
       "       'A17477', 'A17711', 'A18256', 'A18287', 'A18912', 'A19137',\n",
       "       'A20244', 'A20598', 'A22043', 'A24387', 'A24398', 'A25121',\n",
       "       'A26902', 'A2725', 'A28368', 'A28617', 'A28691', 'A29455',\n",
       "       'A30458', 'A31588', 'A32224', 'A34030', 'A35306'], dtype=object)"
      ]
     },
     "execution_count": 22,
     "metadata": {},
     "output_type": "execute_result"
    }
   ],
   "source": [
    "df.loc[(df.concept_name=='Appeal to Judge'), 'case_id'].unique()[:30]"
   ]
  },
  {
   "cell_type": "code",
   "execution_count": 43,
   "id": "6c017504-d2f0-4910-8ed9-ceba0798e9e9",
   "metadata": {},
   "outputs": [
    {
     "data": {
      "text/plain": [
       "555"
      ]
     },
     "execution_count": 43,
     "metadata": {},
     "output_type": "execute_result"
    }
   ],
   "source": [
    "len(df.loc[(df.concept_name=='Appeal to Judge'), 'case_id'].unique())"
   ]
  },
  {
   "cell_type": "code",
   "execution_count": null,
   "id": "cd632b0c-99bf-4137-b9a8-dfd613d153ec",
   "metadata": {},
   "outputs": [],
   "source": [
    "#df.loc[(df.case_id == 'A24387'), :]"
   ]
  }
 ],
 "metadata": {
  "kernelspec": {
   "display_name": "Python 3 (ipykernel)",
   "language": "python",
   "name": "python3"
  },
  "language_info": {
   "codemirror_mode": {
    "name": "ipython",
    "version": 3
   },
   "file_extension": ".py",
   "mimetype": "text/x-python",
   "name": "python",
   "nbconvert_exporter": "python",
   "pygments_lexer": "ipython3",
   "version": "3.11.7"
  }
 },
 "nbformat": 4,
 "nbformat_minor": 5
}
