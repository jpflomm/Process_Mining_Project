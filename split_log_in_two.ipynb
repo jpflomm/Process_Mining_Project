{
 "cells": [
  {
   "cell_type": "code",
   "execution_count": 1,
   "id": "initial_id",
   "metadata": {
    "collapsed": true,
    "ExecuteTime": {
     "end_time": "2024-10-27T16:44:03.595347Z",
     "start_time": "2024-10-27T16:43:24.831133Z"
    }
   },
   "outputs": [
    {
     "data": {
      "text/plain": "parsing log, completed traces ::   0%|          | 0/150370 [00:00<?, ?it/s]",
      "application/vnd.jupyter.widget-view+json": {
       "version_major": 2,
       "version_minor": 0,
       "model_id": "3147193ff9c2422f9fc143e1e8629780"
      }
     },
     "metadata": {},
     "output_type": "display_data"
    },
    {
     "data": {
      "text/plain": "exporting log, completed traces ::   0%|          | 0/75185 [00:00<?, ?it/s]",
      "application/vnd.jupyter.widget-view+json": {
       "version_major": 2,
       "version_minor": 0,
       "model_id": "9b2bc39ff53f492cb59d4b05bf2bc37f"
      }
     },
     "metadata": {},
     "output_type": "display_data"
    },
    {
     "data": {
      "text/plain": "exporting log, completed traces ::   0%|          | 0/75185 [00:00<?, ?it/s]",
      "application/vnd.jupyter.widget-view+json": {
       "version_major": 2,
       "version_minor": 0,
       "model_id": "4acb6ae47397498e83a615ca8881eaf0"
      }
     },
     "metadata": {},
     "output_type": "display_data"
    },
    {
     "data": {
      "text/plain": "parsing log, completed traces ::   0%|          | 0/75185 [00:00<?, ?it/s]",
      "application/vnd.jupyter.widget-view+json": {
       "version_major": 2,
       "version_minor": 0,
       "model_id": "866d2522ac4948c8b2590b176d231a0f"
      }
     },
     "metadata": {},
     "output_type": "display_data"
    },
    {
     "data": {
      "text/plain": "parsing log, completed traces ::   0%|          | 0/75185 [00:00<?, ?it/s]",
      "application/vnd.jupyter.widget-view+json": {
       "version_major": 2,
       "version_minor": 0,
       "model_id": "0f767a20f9564465bdec682e9f499094"
      }
     },
     "metadata": {},
     "output_type": "display_data"
    },
    {
     "name": "stdout",
     "output_type": "stream",
     "text": [
      "Log Part 1 Length: 75185\n",
      "Log Part 2 Length: 75185\n",
      "Combined Log Length: 150370\n"
     ]
    }
   ],
   "source": [
    "import pm4py\n",
    "import pandas\n",
    "\n",
    "from pm4py.objects.log.importer.xes import importer as xes_import_factory\n",
    "from pm4py.objects.log.exporter.xes import exporter as xes_export_factory\n",
    "from pm4py.objects.log.obj import EventLog, Trace\n",
    "\n",
    "# This Notebook's purpose is to split the process log provided in the Road_Traffic_Fine_Management_Process.xes file. \n",
    "# This is because git can only store 100 Mega Byte per file. The Road_Traffic_Fine_Management_Process.xes. \n",
    "# Attention: This only works if the Road_Traffic_Fine_Management_Process.xes file is put into the Road_Traffic_Fine_Management_Process_Data directory.\n",
    "\n",
    "# Step 1: Read the XES file\n",
    "log = xes_import_factory.apply(\"Road_Traffic_Fine_Management_Process_Data/Road_Traffic_Fine_Management_Process.xes\")\n",
    "\n",
    "# Step 2: Split the log into two smaller parts\n",
    "split_index = len(log) // 2  # Find the midpoint of traces\n",
    "\n",
    "# Step 3: Create new EventLog objects for both parts\n",
    "# Use the EventLog constructor and pass a list of traces\n",
    "log_part_1 = EventLog(log[:split_index])  # First half of the log\n",
    "log_part_2 = EventLog(log[split_index:])  # Second half of the log\n",
    "\n",
    "# Step 4: Save the smaller logs\n",
    "xes_export_factory.apply(log_part_1, \"Road_Traffic_Fine_Management_Process_Data/Road_Traffic_Fine_Management_Process_Part1.xes\")\n",
    "xes_export_factory.apply(log_part_2, \"Road_Traffic_Fine_Management_Process_Data/Road_Traffic_Fine_Management_Process_Part2.xes\")\n",
    "\n",
    "# Step 5: Read smaller logs back\n",
    "log_part_1_imported = xes_import_factory.apply(\"Road_Traffic_Fine_Management_Process_Data/Road_Traffic_Fine_Management_Process_Part1.xes\")\n",
    "log_part_2_imported = xes_import_factory.apply(\"Road_Traffic_Fine_Management_Process_Data/Road_Traffic_Fine_Management_Process_Part2.xes\")\n",
    "\n",
    "# Debug: Check the length of imported logs\n",
    "print(f\"Log Part 1 Length: {len(log_part_1_imported)}\")\n",
    "print(f\"Log Part 2 Length: {len(log_part_2_imported)}\")\n",
    "\n",
    "# Step 6: Combine the logs (Note this is how to call the log in the future)\n",
    "combined_log = EventLog(list(log_part_1_imported) + list(log_part_2_imported))\n",
    "\n",
    "# Debug: Check the combined log length\n",
    "print(f\"Combined Log Length: {len(combined_log)}\")"
   ]
  },
  {
   "cell_type": "code",
   "execution_count": 5,
   "outputs": [
    {
     "name": "stdout",
     "output_type": "stream",
     "text": [
      "The old list contains the exact same entries as the new one (list(log)==list(combined_log)=True)\n"
     ]
    }
   ],
   "source": [
    "# Check whether the \"new\" combined_log equals the \"old\" log\n",
    "print(f'The old list contains the exact same entries as the new one (list(log)==list(combined_log)):{list(log)==list(combined_log)})')"
   ],
   "metadata": {
    "collapsed": false,
    "ExecuteTime": {
     "end_time": "2024-10-27T16:04:21.850618Z",
     "start_time": "2024-10-27T16:04:19.302115Z"
    }
   },
   "id": "8510136e77577c37"
  },
  {
   "cell_type": "code",
   "execution_count": 7,
   "outputs": [
    {
     "name": "stdout",
     "output_type": "stream",
     "text": [
      "[{'attributes': {'concept:name': 'A1'}, 'events': [{'amount': 35.0, 'org:resource': '561', 'dismissal': 'NIL', 'concept:name': 'Create Fine', 'vehicleClass': 'A', 'totalPaymentAmount': 0.0, 'lifecycle:transition': 'complete', 'time:timestamp': datetime.datetime(2006, 7, 24, 0, 0, tzinfo=datetime.timezone.utc), 'article': 157, 'points': 0}, '..', {'concept:name': 'Send Fine', 'lifecycle:transition': 'complete', 'expense': 11.0, 'time:timestamp': datetime.datetime(2006, 12, 5, 0, 0, tzinfo=datetime.timezone.utc)}]}, {'attributes': {'concept:name': 'A100'}, 'events': [{'amount': 35.0, 'org:resource': '561', 'dismissal': 'NIL', 'concept:name': 'Create Fine', 'vehicleClass': 'A', 'totalPaymentAmount': 0.0, 'lifecycle:transition': 'complete', 'time:timestamp': datetime.datetime(2006, 8, 2, 0, 0, tzinfo=datetime.timezone.utc), 'article': 157, 'points': 0}, '..', {'concept:name': 'Send for Credit Collection', 'lifecycle:transition': 'complete', 'time:timestamp': datetime.datetime(2009, 3, 30, 0, 0, tzinfo=datetime.timezone.utc)}]}, {'attributes': {'concept:name': 'A10000'}, 'events': [{'amount': 36.0, 'org:resource': '561', 'dismissal': 'NIL', 'concept:name': 'Create Fine', 'vehicleClass': 'A', 'totalPaymentAmount': 0.0, 'lifecycle:transition': 'complete', 'time:timestamp': datetime.datetime(2007, 3, 9, 0, 0, tzinfo=datetime.timezone.utc), 'article': 157, 'points': 0}, '..', {'totalPaymentAmount': 87.0, 'concept:name': 'Payment', 'lifecycle:transition': 'complete', 'paymentAmount': 87.0, 'time:timestamp': datetime.datetime(2008, 9, 9, 0, 0, tzinfo=datetime.timezone.utc)}]}, {'attributes': {'concept:name': 'A10001'}, 'events': [{'amount': 36.0, 'org:resource': '537', 'dismissal': 'NIL', 'concept:name': 'Create Fine', 'vehicleClass': 'A', 'totalPaymentAmount': 0.0, 'lifecycle:transition': 'complete', 'time:timestamp': datetime.datetime(2007, 3, 19, 0, 0, tzinfo=datetime.timezone.utc), 'article': 157, 'points': 0}, '..', {'concept:name': 'Send Appeal to Prefecture', 'lifecycle:transition': 'complete', 'dismissal': '#', 'time:timestamp': datetime.datetime(2007, 9, 24, 0, 0, tzinfo=datetime.timezone.utc)}]}, {'attributes': {'concept:name': 'A10004'}, 'events': [{'amount': 36.0, 'org:resource': '537', 'dismissal': 'NIL', 'concept:name': 'Create Fine', 'vehicleClass': 'A', 'totalPaymentAmount': 0.0, 'lifecycle:transition': 'complete', 'time:timestamp': datetime.datetime(2007, 3, 20, 0, 0, tzinfo=datetime.timezone.utc), 'article': 157, 'points': 0}, '..', {'concept:name': 'Send for Credit Collection', 'lifecycle:transition': 'complete', 'time:timestamp': datetime.datetime(2009, 3, 30, 0, 0, tzinfo=datetime.timezone.utc)}]}]\n",
      "[{'attributes': {'concept:name': 'A1'}, 'events': [{'amount': 35.0, 'org:resource': '561', 'dismissal': 'NIL', 'concept:name': 'Create Fine', 'vehicleClass': 'A', 'totalPaymentAmount': 0.0, 'lifecycle:transition': 'complete', 'time:timestamp': datetime.datetime(2006, 7, 24, 0, 0, tzinfo=datetime.timezone.utc), 'article': 157, 'points': 0}, '..', {'concept:name': 'Send Fine', 'lifecycle:transition': 'complete', 'expense': 11.0, 'time:timestamp': datetime.datetime(2006, 12, 5, 0, 0, tzinfo=datetime.timezone.utc)}]}, {'attributes': {'concept:name': 'A100'}, 'events': [{'amount': 35.0, 'org:resource': '561', 'dismissal': 'NIL', 'concept:name': 'Create Fine', 'vehicleClass': 'A', 'totalPaymentAmount': 0.0, 'lifecycle:transition': 'complete', 'time:timestamp': datetime.datetime(2006, 8, 2, 0, 0, tzinfo=datetime.timezone.utc), 'article': 157, 'points': 0}, '..', {'concept:name': 'Send for Credit Collection', 'lifecycle:transition': 'complete', 'time:timestamp': datetime.datetime(2009, 3, 30, 0, 0, tzinfo=datetime.timezone.utc)}]}, {'attributes': {'concept:name': 'A10000'}, 'events': [{'amount': 36.0, 'org:resource': '561', 'dismissal': 'NIL', 'concept:name': 'Create Fine', 'vehicleClass': 'A', 'totalPaymentAmount': 0.0, 'lifecycle:transition': 'complete', 'time:timestamp': datetime.datetime(2007, 3, 9, 0, 0, tzinfo=datetime.timezone.utc), 'article': 157, 'points': 0}, '..', {'totalPaymentAmount': 87.0, 'concept:name': 'Payment', 'lifecycle:transition': 'complete', 'paymentAmount': 87.0, 'time:timestamp': datetime.datetime(2008, 9, 9, 0, 0, tzinfo=datetime.timezone.utc)}]}, {'attributes': {'concept:name': 'A10001'}, 'events': [{'amount': 36.0, 'org:resource': '537', 'dismissal': 'NIL', 'concept:name': 'Create Fine', 'vehicleClass': 'A', 'totalPaymentAmount': 0.0, 'lifecycle:transition': 'complete', 'time:timestamp': datetime.datetime(2007, 3, 19, 0, 0, tzinfo=datetime.timezone.utc), 'article': 157, 'points': 0}, '..', {'concept:name': 'Send Appeal to Prefecture', 'lifecycle:transition': 'complete', 'dismissal': '#', 'time:timestamp': datetime.datetime(2007, 9, 24, 0, 0, tzinfo=datetime.timezone.utc)}]}, {'attributes': {'concept:name': 'A10004'}, 'events': [{'amount': 36.0, 'org:resource': '537', 'dismissal': 'NIL', 'concept:name': 'Create Fine', 'vehicleClass': 'A', 'totalPaymentAmount': 0.0, 'lifecycle:transition': 'complete', 'time:timestamp': datetime.datetime(2007, 3, 20, 0, 0, tzinfo=datetime.timezone.utc), 'article': 157, 'points': 0}, '..', {'concept:name': 'Send for Credit Collection', 'lifecycle:transition': 'complete', 'time:timestamp': datetime.datetime(2009, 3, 30, 0, 0, tzinfo=datetime.timezone.utc)}]}]\n"
     ]
    }
   ],
   "source": [
    "print(list(combined_log)[:5])\n",
    "print(list(log)[:5])"
   ],
   "metadata": {
    "collapsed": false,
    "ExecuteTime": {
     "end_time": "2024-10-27T16:08:16.389028Z",
     "start_time": "2024-10-27T16:08:16.385700Z"
    }
   },
   "id": "e31c4cab4ed8f2d7"
  },
  {
   "cell_type": "code",
   "execution_count": null,
   "outputs": [],
   "source": [
    "## After running this notebook and confirming that the log is the same as the combined log we can now safely remove the Road_Traffic_Fine_Management_Process.xes file and replace it with the two Road_Traffic_Fine_Management_Process_Part1.xes and Road_Traffic_Fine_Management_Process_Part2.xes files"
   ],
   "metadata": {
    "collapsed": false
   },
   "id": "af41763b081cb355"
  }
 ],
 "metadata": {
  "kernelspec": {
   "display_name": "Python 3",
   "language": "python",
   "name": "python3"
  },
  "language_info": {
   "codemirror_mode": {
    "name": "ipython",
    "version": 2
   },
   "file_extension": ".py",
   "mimetype": "text/x-python",
   "name": "python",
   "nbconvert_exporter": "python",
   "pygments_lexer": "ipython2",
   "version": "2.7.6"
  }
 },
 "nbformat": 4,
 "nbformat_minor": 5
}
